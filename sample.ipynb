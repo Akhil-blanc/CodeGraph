{
 "cells": [
  {
   "cell_type": "code",
   "execution_count": null,
   "metadata": {},
   "outputs": [],
   "source": [
    "db = Chroma.from_documents(texts, GoogleGenerativeAIEmbeddings(model=\"models/embedding-001\"))\n",
    "retriever = db.as_retriever(\n",
    "    search_type=\"mmr\",  # Also test \"similarity\"\n",
    "    search_kwargs={\"k\": 8},\n",
    ")"
   ]
  },
  {
   "cell_type": "code",
   "execution_count": null,
   "metadata": {},
   "outputs": [],
   "source": [
    "llm = ChatGoogleGenerativeAI(\n",
    "    model=\"gemini-1.5-pro\",\n",
    "    temperature=0,\n",
    "    max_tokens=None,\n",
    "    timeout=None,\n",
    "    max_retries=2,\n",
    ")"
   ]
  },
  {
   "cell_type": "code",
   "execution_count": null,
   "metadata": {},
   "outputs": [],
   "source": [
    "prompt = ChatPromptTemplate.from_messages(\n",
    "    [\n",
    "        (\"placeholder\", \"{chat_history}\"),\n",
    "        (\"user\", \"{input}\"),\n",
    "        (\n",
    "            \"user\",\n",
    "            \"Given the above conversation, generate a search query to look up to get information relevant to the conversation\",\n",
    "        ),\n",
    "    ]\n",
    ")"
   ]
  },
  {
   "cell_type": "code",
   "execution_count": null,
   "metadata": {},
   "outputs": [
    {
     "name": "stdout",
     "output_type": "stream",
     "text": [
      "Functions:\n",
      "\n",
      "* `main()`\n",
      "* `is_full()`\n",
      "* `get_valid_moves()`\n",
      "* `print_board()`\n",
      "\n",
      "\n",
      "Classes:\n",
      "\n",
      "* (Implicitly defined within the `GAME_CONFIGS` dictionary, under the `number_prediction` key):\n",
      "    * No class name is explicitly provided in the given code snippet. It's defined directly within the dictionary using the class keyword.  It would need to be extracted and assigned a name to be used directly. It appears to handle the number prediction game logic.\n"
     ]
    }
   ],
   "source": [
    "retriever_chain = create_history_aware_retriever(llm, retriever, prompt)\n",
    "\n",
    "prompt = ChatPromptTemplate.from_messages(\n",
    "    [\n",
    "        (\n",
    "            \"system\",\n",
    "            \"Answer the user's questions based on the below context:\\n\\n{context}\",\n",
    "        ),\n",
    "        (\"placeholder\", \"{chat_history}\"),\n",
    "        (\"user\", \"{input}\"),\n",
    "    ]\n",
    ")\n",
    "document_chain = create_stuff_documents_chain(llm, prompt)\n",
    "\n",
    "qa = create_retrieval_chain(retriever_chain, document_chain)\n",
    "\n",
    "question = \"list all the names of functions and classes\"\n",
    "result = qa.invoke({\"input\": question})\n",
    "print(result[\"answer\"])"
   ]
  },
  {
   "cell_type": "code",
   "execution_count": null,
   "metadata": {},
   "outputs": [
    {
     "data": {
      "text/plain": [
       "{'input': 'list all the names of functions and classes',\n",
       " 'context': [Document(metadata={'language': 'python', 'source': 'D:\\\\my_study\\\\MAS_game\\\\llm_agent.py'}, page_content='from agent_role import AgentRole\\nimport json\\nfrom typing import Tuple\\nimport google.generativeai as genai\\nimport logging\\n\\nlogging.basicConfig(level=logging.DEBUG)\\nlogger = logging.getLogger(__name__)\\n\\nfrom prompts import (\\n    STORYTELLER_PROMPTS, CHARACTER_PROMPTS,\\n    GAME_MASTER_PROMPTS, ADVISOR_PROMPTS\\n)\\n\\nfrom config import(\\n    model, GAME_CONFIGS, PERFORMANCE_METRICS, ERROR_MESSAGES,GAME_GENRES\\n)'),\n",
       "  Document(metadata={'language': 'python', 'source': 'D:\\\\my_study\\\\MAS_game\\\\config.py'}, page_content='\"dynamic_patterns\": True\\n            }\\n        },\\n        \"special_rules\": {\\n            \"pattern_based\": True,\\n            \"multi_number\": False,\\n            \"time_pressure\": True\\n        }\\n    }\\n}'),\n",
       "  Document(metadata={'language': 'python', 'source': 'D:\\\\my_study\\\\MAS_game\\\\tictactoe.py'}, page_content='import numpy as np\\nfrom typing import Optional, List, Tuple'),\n",
       "  Document(metadata={'language': 'python', 'source': 'D:\\\\my_study\\\\MAS_game\\\\number_pred.py'}, page_content='\"\"\"Check if the prediction matches the next number\"\"\"\\n        self.attempts += 1\\n        \\n        if prediction == self.next_number:\\n            return True, \"Correct! You\\'ve found the next number in the sequence!\"\\n            \\n        difference = abs(prediction - self.next_number)\\n        if self.attempts >= self.max_attempts:\\n            return False, f\"Game Over! The correct number was {self.next_number}\"\\n            \\n        # Provide feedback based on how close the guess was\\n        if difference <= 2:\\n            return False, \"Very close! Try again.\"\\n        elif difference <= 5:\\n            return False, \"Getting warmer! Try again.\"\\n        else:\\n            return False, \"Not quite. Try again.\"\\n            \\n    def get_hint(self) -> str:\\n        \"\"\"Generate a hint based on the pattern type and current sequence\"\"\"\\n        self.hints_given += 1\\n        \\n        if self.hints_given == 1:\\n            return f\"Look at the first {min(3, len(self.sequence))} numbers: {self.sequence[:3]}\"\\n            \\n        if self.pattern_type == \\'arithmetic\\':\\n            return \"Try finding the constant difference between consecutive numbers.\"\\n        elif self.pattern_type == \\'geometric\\':\\n            return \"Try finding the constant ratio between consecutive numbers.\"\\n        else:\\n            return \"Each number is related to the two numbers before it.\"\\n            \\n    def get_sequence_display(self) -> str:\\n        \"\"\"Return the current sequence for display\"\"\"\\n        return \" → \".join(map(str, self.sequence)) + \" → ?\"'),\n",
       "  Document(metadata={'language': 'python', 'source': 'D:\\\\my_study\\\\MAS_game\\\\game.py'}, page_content='async def main():\\n    \"\"\"Enhanced main function with configuration support\"\"\"\\n    print(\"\\\\n=== Welcome to the Multi-Agent Game System ===\")\\n    \\n    # Display available genres\\n    print(\"\\\\nAvailable Genres:\")\\n    for i, genre in enumerate(GAME_GENRES.keys(), 1):\\n        print(f\"{i}. {genre.title()}\")\\n        print(f\"   Themes: {\\', \\'.join(GAME_GENRES[genre][\\'themes\\'])}\")\\n        \\n    # Get player preferences\\n    genre_choice = input(\"\\\\nChoose a genre (number): \").strip()\\n    genres = list(GAME_GENRES.keys())\\n    genre = genres[int(genre_choice) - 1] if genre_choice.isdigit() and \\\\\\n            0 < int(genre_choice) <= len(genres) else \"fantasy\"\\n            \\n    print(\"\\\\nChoose your play style:\")\\n    print(\"1. Strategic - Careful planning and thoughtful moves\")\\n    print(\"2. Aggressive - Bold moves and high-risk plays\")\\n    print(\"3. Defensive - Cautious play and counter-strategies\")\\n    style_choice = input(\"> \").strip()\\n    style_map = {\"1\": \"strategic\", \"2\": \"aggressive\", \"3\": \"defensive\"}\\n    play_style = style_map.get(style_choice, \"strategic\")\\n    \\n    player_preferences = {\\n        \"preferred_genre\": genre,\\n        \"play_style\": play_style,\\n        \"difficulty_preference\": \"adaptive\"\\n    }\\n    \\n    # Initialize enhanced game manager\\n    game_manager = EnhancedGameManager()\\n    await game_manager.initialize_game(genre, player_preferences)\\n    print(game_manager.game_state.state[\\'story\\'][\\'opening_narrative\\'])\\n    time.sleep(10)\\n    # Enhanced game loop with better feedback\\n    level = 0\\n    while level < 3:\\n        print(f\"\\\\n=== Level {level + 1} ===\")\\n        # print(game_manager.game_state.state)\\n        # print(f\"Current Score: {game_manager.game_state.state[\\'score\\']}\")\\n        # print(f\"Win Streak: {game_manager.game_state.state[\\'current_streak\\']}\")\\n        \\n        game_type = game_manager.game_state.state[\"current_game\"][\"type\"]\\n        print(f\"\\\\nGame Type: {game_type}\")\\n        \\n        # Get character introduction with enhanced dialogue'),\n",
       "  Document(metadata={'language': 'python', 'source': 'D:\\\\my_study\\\\MAS_game\\\\tictactoe.py'}, page_content='def is_full(self) -> bool:\\n        \"\"\"Check if board is full\"\"\"\\n        return np.all(self.board != 0)\\n        \\n    def get_valid_moves(self) -> List[Tuple[int, int, int]]:\\n        \"\"\"Get all valid moves\"\"\"\\n        return [(x, y, z) for x in range(3) for y in range(3) \\n                for z in range(3) if self.board[x][y][z] == 0]\\n                \\n    def print_board(self):\\n        \"\"\"Print the current board state\"\"\"\\n        symbols = {0: \".\", 1: \"X\", 2: \"O\"}\\n        print(\"\\\\n3D Tic Tac Toe Board:\")\\n        for z in range(3):\\n            print(f\"\\\\nLevel {z + 1}\")\\n            for x in range(3):\\n                for y in range(3):\\n                    print(symbols[self.board[x][y][z]], end=\" \")\\n                print()'),\n",
       "  Document(metadata={'language': 'python', 'source': 'D:\\\\my_study\\\\MAS_game\\\\prompts.py'}, page_content='Choose from available game types as game_type:\\n    1. 3D Tic Tac Toe\\n    2. Strategic Rock Paper Scissors\\n    3. Number Prediction Game\\n    \\n    Player Information:\\n    - Skill Level: {skill_level}\\n    - Past Performance: {performance}\\n    - Preferred Style: {style}\\n    \\n    Return the response in the following JSON format:\\n    {{\\n        \"selected_game\": {{\\n            \"type\": \"game_type_name\",\\n            \"difficulty\": \"difficulty_level\",\\n            \"configuration\": {{\\n                \"rules\": [\"rule_1\", \"rule_2\"],\\n                \"special_mechanics\": [\"mechanic_1\", \"mechanic_2\"],\\n                \"time_limits\": \"time_constraints\"\\n            }}\\n        }},\\n        \"victory_conditions\": {{\\n            \"primary\": \"main_win_condition\",\\n            \"bonus\": [\"bonus_condition_1\", \"bonus_condition_2\"]\\n        }},\\n        \"difficulty_parameters\": {{\\n            \"ai_level\": \"ai_difficulty\",\\n            \"complexity\": \"game_complexity\",\\n            \"adaptivity\": \"adaptation_settings\"\\n        }}\\n    }}\\n    \"\"\",\\n    \\n    \"difficulty_adjustment\": \"\"\"\\n    Analyze current game state and adjust difficulty.\\n    \\n    Current State:\\n    - Player Performance: {performance}\\n    - Current Difficulty: {difficulty}\\n    - Game Type: {game_type}\\n    \\n    Return the response in the following JSON format:\\n    {{\\n        \"difficulty_changes\": {{\\n            \"new_level\": \"adjusted_difficulty\",\\n            \"parameters\": {{\\n                \"ai_behavior\": \"modified_ai_settings\",\\n                \"game_rules\": \"updated_rules\",\\n                \"time_pressure\": \"time_modifications\"\\n            }}\\n        }},\\n        \"adaptation_basis\": {{\\n            \"performance_metrics\": [\"metric_1\", \"metric_2\"],\\n            \"learning_curve\": \"learning_assessment\",\\n            \"engagement_factors\": [\"factor_1\", \"factor_2\"]\\n        }},\\n        \"immediate_changes\": [\"change_1\", \"change_2\"],\\n        \"gradual_changes\": [\"planned_change_1\", \"planned_change_2\"]\\n    }}\\n    \"\"\"\\n}'),\n",
       "  Document(metadata={'language': 'python', 'source': 'D:\\\\my_study\\\\MAS_game\\\\config.py'}, page_content='2. Character-appropriate reaction\\n        3. Hook for next challenge\\n        \"\"\",\\n        \\n        \"defeat\": \"\"\"\\n        Generate defeat dialogue for {character_name}.\\n        \\n        Context:\\n        - Match Result: {result}\\n        - Player Strategy: {strategy}\\n        - Game History: {history}\\n        \\n        Include:\\n        1. Graceful acknowledgment\\n        2. Character development\\n        3. Forward progression element\\n        \"\"\"\\n    }\\n}')],\n",
       " 'answer': \"Functions:\\n\\n* `main()`\\n* `is_full()`\\n* `get_valid_moves()`\\n* `print_board()`\\n\\n\\nClasses:\\n\\n* (Implicitly defined within the `GAME_CONFIGS` dictionary, under the `number_prediction` key):\\n    * No class name is explicitly provided in the given code snippet. It's defined directly within the dictionary using the class keyword.  It would need to be extracted and assigned a name to be used directly. It appears to handle the number prediction game logic.\"}"
      ]
     },
     "metadata": {},
     "output_type": "display_data"
    }
   ],
   "source": [
    "result"
   ]
  },
  {
   "cell_type": "code",
   "execution_count": null,
   "metadata": {},
   "outputs": [],
   "source": [
    "result = qa.invoke({\"input\": \"list all the names of functions and classes, where a function is defined with def keyword and class is defined with class \"})"
   ]
  },
  {
   "cell_type": "code",
   "execution_count": null,
   "metadata": {},
   "outputs": [],
   "source": [
    "question=\"\"\"list all the names of functions and classes presnt in the folder, where a function is defined with def keyword and class is defined with class keyword\n",
    "            for example, in the below code snippet, there are two functions and one class\n",
    "            def fun1():\n",
    "                pass\n",
    "            def fun2():\n",
    "                pass\n",
    "            class MyClass:\n",
    "                \n",
    "                def __init__(self):\n",
    "                pass\n",
    "                \n",
    "                def fun3(self):\n",
    "                pass\n",
    "            \n",
    "            expected output:\n",
    "            Independet functions:\n",
    "            fun1\n",
    "            fun2\n",
    "            Classes:\n",
    "            MyClass\n",
    "                functions:\n",
    "                __init__\n",
    "                fun3\n",
    "            \"\"\"\n"
   ]
  },
  {
   "cell_type": "code",
   "execution_count": null,
   "metadata": {},
   "outputs": [],
   "source": []
  },
  {
   "cell_type": "code",
   "execution_count": null,
   "metadata": {},
   "outputs": [
    {
     "name": "stdout",
     "output_type": "stream",
     "text": [
      "* **Classes:**\n",
      "\n",
      "    * `AgentRole`\n",
      "    * `NumberPredictionGame`\n",
      "    * `TicTacToe3D`\n",
      "\n",
      "* **Functions:**\n",
      "\n",
      "    * `is_full`\n",
      "    * `get_valid_moves`\n",
      "    * `print_board`\n",
      "    * `check_prediction`\n",
      "    * `get_hint`\n",
      "    * `get_sequence_display`\n",
      "\n",
      "\n",
      "\n"
     ]
    }
   ],
   "source": [
    "print(result['answer'])"
   ]
  },
  {
   "cell_type": "code",
   "execution_count": null,
   "metadata": {},
   "outputs": [],
   "source": [
    "result = qa.invoke({\"input\": question})"
   ]
  },
  {
   "cell_type": "code",
   "execution_count": null,
   "metadata": {},
   "outputs": [
    {
     "name": "stdout",
     "output_type": "stream",
     "text": [
      "Independent functions:\n",
      "`main`\n",
      "\n",
      "Classes:\n",
      "`GameState`\n",
      "    functions:\n",
      "    `__init__`\n",
      "    `update_performance`\n",
      "\n",
      "`NumberPatternGame`\n",
      "    functions:\n",
      "    `__init__`\n",
      "    `generate_next_number`\n",
      "    `check_prediction`\n",
      "    `get_hint`\n",
      "    `get_sequence_display`\n",
      "\n",
      "\n",
      "Other Classes (Without defined methods, or only showing partial code):\n",
      "`AgentRole` (Enum)\n",
      "`EnhancedGameManager` (Partial code)\n"
     ]
    }
   ],
   "source": [
    "print(result['answer'])"
   ]
  },
  {
   "cell_type": "code",
   "execution_count": null,
   "metadata": {},
   "outputs": [],
   "source": [
    "question=\"Extract all classes and functions from this folder. List each function name, its arguments, and return types (if applicable). Then generate an explanation for each function's purpose, role, and how it fits into the project.\""
   ]
  },
  {
   "cell_type": "code",
   "execution_count": null,
   "metadata": {},
   "outputs": [],
   "source": [
    "result=qa.invoke({\"input\":question})"
   ]
  },
  {
   "cell_type": "code",
   "execution_count": null,
   "metadata": {},
   "outputs": [
    {
     "name": "stdout",
     "output_type": "stream",
     "text": [
      "```python\n",
      "from enum import Enum\n",
      "\n",
      "class AgentRole(Enum):\n",
      "    STORYTELLER = \"storyteller\"\n",
      "    GAME_MASTER = \"game_master\"\n",
      "    CHARACTER = \"character\"\n",
      "    ADVISOR = \"advisor\"\n",
      "\n",
      "class LLMAgent:\n",
      "    def __init__(self, role: AgentRole, personality: dict):\n",
      "        ...\n",
      "\n",
      "    async def generate_response(self, prompt: str, context: dict = None) -> str:\n",
      "        ...\n",
      "\n",
      "    def _construct_system_prompt(self, context: dict = None) -> str:\n",
      "        ...\n",
      "\n",
      "    def _get_fallback_response(self) -> str:\n",
      "        ...\n",
      "\n",
      "\n",
      "# ... (Other classes and functions possibly present in the same folder)\n",
      "\n",
      "\n",
      "\n",
      "async def main():\n",
      "    ...\n",
      "```\n",
      "\n",
      "**Function Breakdown:**\n",
      "\n",
      "**1. `main()`**\n",
      "\n",
      "* **Arguments:** None\n",
      "* **Return Type:** None (implicitly)\n",
      "* **Purpose:** The main entry point of the application. It initializes the game, sets up the game loop, and manages the overall flow of the game.\n",
      "* **Role:** Orchestrates the interaction between different components of the game, including game setup, level progression, and player interaction.\n",
      "* **How it fits:** Acts as the central controller for the entire game experience.\n",
      "\n",
      "**2. `LLMAgent.__init__(self, role: AgentRole, personality: dict)`**\n",
      "\n",
      "* **Arguments:**\n",
      "    * `self`: The instance of the class.\n",
      "    * `role`: An `AgentRole` enum representing the role of the agent (e.g., storyteller, game master).\n",
      "    * `personality`: A dictionary defining the personality traits and communication style of the agent.\n",
      "* **Return Type:** None (constructor)\n",
      "* **Purpose:** Initializes a new LLMAgent with a specific role and personality.  It sets up the agent's role, personality, and initializes an empty conversation history.\n",
      "* **Role:** Creates and configures an agent that can interact within the game using language models.\n",
      "* **How it fits:**  Provides a base for creating different types of agents (storyteller, character, etc.) that can generate dynamic and engaging content.\n",
      "\n",
      "**3. `LLMAgent.generate_response(self, prompt: str, context: dict = None) -> str`**\n",
      "\n",
      "* **Arguments:**\n",
      "    * `self`: The instance of the class.\n",
      "    * `prompt`: The input prompt for the language model.\n",
      "    * `context`: An optional dictionary providing additional context for the response generation.\n",
      "* **Return Type:** `str` (The generated response from the language model.)\n",
      "* **Purpose:** Generates a response from the language model based on the given prompt and context. It constructs a system prompt incorporating the agent's personality and context, then sends the full prompt to the language model.\n",
      "* **Role:** Core function for interacting with the language model, allowing agents to respond to prompts and generate dynamic content.\n",
      "* **How it fits:** Enables the agents to communicate and interact within the game world, driving the narrative and gameplay.\n",
      "\n",
      "**4. `LLMAgent._construct_system_prompt(self, context: dict = None) -> str`**\n",
      "\n",
      "* **Arguments:**\n",
      "    * `self`: The instance of the class.\n",
      "    * `context`: An optional dictionary providing context for the system prompt.\n",
      "* **Return Type:** `str` (The constructed system prompt.)\n",
      "* **Purpose:** Constructs the system prompt for the language model, incorporating the agent's role, personality, and any provided context.\n",
      "* **Role:** Helper function to create the initial instructions for the language model, ensuring consistent behavior and personality for the agent.\n",
      "* **How it fits:** Supports `generate_response` by providing the necessary context and instructions to the language model.\n",
      "\n",
      "**5. `LLMAgent._get_fallback_response(self) -> str`**\n",
      "\n",
      "* **Arguments:**\n",
      "    * `self`: The instance of the class.\n",
      "* **Return Type:** `str` (A fallback response.)\n",
      "* **Purpose:** Provides a fallback response in case the language model fails to generate a response.\n",
      "* **Role:** Handles error cases and ensures that the game can continue even if the language model encounters issues.\n",
      "* **How it fits:** Improves the robustness of the agent by providing a backup mechanism for response generation.\n",
      "\n",
      "\n",
      "**Class Breakdown:**\n",
      "\n",
      "**1. `AgentRole(Enum)`**\n",
      "\n",
      "* **Purpose:** Defines the different roles that an agent can have in the game (storyteller, game master, character, advisor).\n",
      "* **Role:** Provides a structured way to represent and manage the different types of agents in the system.\n",
      "* **How it fits:** Used in the `LLMAgent` class to specify the role of each agent, influencing their behavior and interactions.\n",
      "\n",
      "**2. `LLMAgent`**\n",
      "\n",
      "* **Purpose:** Represents an agent powered by a large language model (LLM).  It encapsulates the agent's role, personality, conversation history, and methods for interacting with the LLM.\n",
      "* **Role:** Provides a common interface for creating and managing different types of agents in the game.\n",
      "* **How it fits:** Serves as the foundation for creating intelligent agents that can generate dynamic content and interact with players.\n",
      "\n",
      "\n",
      "This breakdown provides a comprehensive overview of the provided code, explaining the purpose, role, and how each function and class fits within the larger project.  Remember that if there are other classes or functions in the same folder, they should also be included in a similar analysis.  The provided code snippet only shows a part of the project, and understanding the complete picture requires analyzing all its components.\n",
      "\n"
     ]
    }
   ],
   "source": [
    "print(result['answer'])"
   ]
  }
 ],
 "metadata": {
  "language_info": {
   "name": "python"
  }
 },
 "nbformat": 4,
 "nbformat_minor": 2
}
